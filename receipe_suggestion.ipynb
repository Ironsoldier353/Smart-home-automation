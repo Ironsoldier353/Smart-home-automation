{
  "nbformat": 4,
  "nbformat_minor": 0,
  "metadata": {
    "colab": {
      "provenance": [],
      "authorship_tag": "ABX9TyNsbkjI6ZmBWAS17y6n3tNV",
      "include_colab_link": true
    },
    "kernelspec": {
      "name": "python3",
      "display_name": "Python 3"
    },
    "language_info": {
      "name": "python"
    }
  },
  "cells": [
    {
      "cell_type": "markdown",
      "metadata": {
        "id": "view-in-github",
        "colab_type": "text"
      },
      "source": [
        "<a href=\"https://colab.research.google.com/github/Ironsoldier353/Smart-home-automation/blob/machine-learning/receipe_suggestion.ipynb\" target=\"_parent\"><img src=\"https://colab.research.google.com/assets/colab-badge.svg\" alt=\"Open In Colab\"/></a>"
      ]
    },
    {
      "cell_type": "code",
      "source": [
        "import requests\n",
        "from bs4 import BeautifulSoup\n",
        "import re\n",
        "\n",
        "def extract_calories(description):\n",
        "    soup = BeautifulSoup(description, 'html.parser')\n",
        "    text = soup.get_text()\n",
        "    # Find the calorie info pattern\n",
        "    match = re.search(r'(\\d+) calories', text)\n",
        "    if match:\n",
        "        return match.group(1)\n",
        "    return 'N/A'\n",
        "\n",
        "def clean_html(text):\n",
        "    soup = BeautifulSoup(text, 'html.parser')\n",
        "    return soup.get_text()\n",
        "\n",
        "def fetch_recipes(ingredient, number_of_recipes=5):\n",
        "    API_KEY = '3e1fc5c0ce6e481cb8f93b0xxxxxxxxx'\n",
        "    url = 'https://api.spoonacular.com/recipes/complexSearch'\n",
        "\n",
        "    params = {\n",
        "        'apiKey': API_KEY,\n",
        "        'includeIngredients': ingredient,\n",
        "        'number': number_of_recipes,\n",
        "        'addRecipeInformation': True\n",
        "    }\n",
        "\n",
        "    response = requests.get(url, params=params)\n",
        "\n",
        "    if response.status_code == 200:\n",
        "        data = response.json()\n",
        "        recipes = data.get('results', [])\n",
        "\n",
        "        if recipes:\n",
        "            for recipe in recipes:\n",
        "                title = recipe.get('title', 'No title')\n",
        "                description = recipe.get('summary', 'No description available')\n",
        "                clean_description = clean_html(description)\n",
        "                calories = extract_calories(description)\n",
        "\n",
        "                print(f\"Title: {title}\\nDescription: {clean_description}\\nCalories: {calories} calories\\n\")\n",
        "        else:\n",
        "            print(\"No recipes found.\")\n",
        "    else:\n",
        "        print(\"Request failed. Status code:\", response.status_code)\n",
        "\n",
        "# Example usage\n",
        "fetch_recipes(\"chicken\")\n"
      ],
      "metadata": {
        "colab": {
          "base_uri": "https://localhost:8080/"
        },
        "id": "gEYz3Cc6rG_b",
        "outputId": "6795e524-70e2-48e8-e842-d95e2fe47337"
      },
      "execution_count": null,
      "outputs": [
        {
          "output_type": "stream",
          "name": "stdout",
          "text": [
            "Title: Red Lentil Soup with Chicken and Turnips\n",
            "Description: Red Lentil Soup with Chicken and Turnips might be a good recipe to expand your main course repertoire. This recipe serves 8 and costs $3.0 per serving. One serving contains 477 calories, 27g of protein, and 20g of fat. It is brought to you by Pink When. 1866 people have tried and liked this recipe. It can be enjoyed any time, but it is especially good for Autumn. From preparation to the plate, this recipe takes approximately 55 minutes. It is a good option if you're following a gluten free and dairy free diet. Head to the store and pick up salt and pepper, canned tomatoes, flat leaf parsley, and a few other things to make it today. Overall, this recipe earns a spectacular spoonacular score of 99%. If you like this recipe, you might also like recipes such as Red Lentil and Chicken Soup, Red Lentil and Chicken Soup, and Red-Lentil Soup.\n",
            "Calories: 477 calories\n",
            "\n",
            "Title: Cheesy Chicken Enchilada Quinoa Casserole\n",
            "Description: Cheesy Chicken Enchilada Quinoa Casserole might be just the Mexican recipe you are searching for. One serving contains 594 calories, 34g of protein, and 24g of fat. This gluten free recipe serves 4 and costs $2.62 per serving. A mixture of corn, pepper, canned tomatoes, and a handful of other ingredients are all it takes to make this recipe so delicious. From preparation to the plate, this recipe takes approximately 30 minutes. It will be a hit at your Autumn event. Plenty of people made this recipe, and 9912 would say it hit the spot. It works well as an affordable main course. It is brought to you by Pink When. With a spoonacular score of 97%, this dish is amazing. If you like this recipe, you might also like recipes such as Cheesy Chicken Enchilada Quinoa Casserole, Cheesy Chicken Enchilada Quinoa Casserole, and Cheesy Chicken Enchilada Quinoa Casserole.\n",
            "Calories: 594 calories\n",
            "\n",
            "Title: Stir Fried Quinoa, Brown Rice and Chicken Breast\n",
            "Description: You can never have too many main course recipes, so give Stir Fried Quinoa, Brown Rice and Chicken Breast a try. This recipe serves 1 and costs $3.58 per serving. One serving contains 750 calories, 58g of protein, and 20g of fat. 39 people were impressed by this recipe. If you have cherry tomatoes, spring onion, butter, and a few other ingredients on hand, you can make it. It is brought to you by Afrolems. From preparation to the plate, this recipe takes roughly 45 minutes. It is a good option if you're following a gluten free diet. All things considered, we decided this recipe deserves a spoonacular score of 95%. This score is tremendous. Try Stir-fried chicken with broccoli & brown rice, Stir-Fried Broccoli with Brown Rice {Meat Optional}, and Stir-fried Chickpeas And Asparagus With Brown Rice And Lemon Ta for similar recipes.\n",
            "Calories: 750 calories\n",
            "\n",
            "Title: Spinach Salad with Strawberry Vinaigrette\n",
            "Description: Need a gluten free and primal main course? Spinach Salad with Strawberry Vinaigrette could be a great recipe to try. This recipe makes 1 servings with 322 calories, 22g of protein, and 13g of fat each. For $3.39 per serving, this recipe covers 33% of your daily requirements of vitamins and minerals. A mixture of water, balsamic vinegar, ground pepper, and a handful of other ingredients are all it takes to make this recipe so delicious. It will be a hit at your Mother's Day event. 15 people have made this recipe and would make it again. It is brought to you by Foodista. From preparation to the plate, this recipe takes roughly 45 minutes. All things considered, we decided this recipe deserves a spoonacular score of 96%. This score is awesome. If you like this recipe, take a look at these similar recipes: Strawberry Avocado Spinach Salad with Strawberry Vinaigrette, Strawberry Avocado Spinach Salad with Strawberry Vinaigrette, and Spinach Strawberry Salad with Strawberry Vinaigrette.\n",
            "Calories: 322 calories\n",
            "\n",
            "Title: Smoky Black Bean Soup With Sweet Potato & Kale\n",
            "Description: You can never have too many main course recipes, so give Smoky Black Bean Soup With Sweet Potato & Kale a try. One serving contains 555 calories, 23g of protein, and 7g of fat. This recipe serves 6. For $2.62 per serving, this recipe covers 41% of your daily requirements of vitamins and minerals. 5 people have tried and liked this recipe. This recipe from Foodista requires chicken broth, onion, black beans, and salt & pepper. From preparation to the plate, this recipe takes around 10 hours and 30 minutes. It can be enjoyed any time, but it is especially good for Autumn. It is a good option if you're following a gluten free, dairy free, and lacto ovo vegetarian diet. All things considered, we decided this recipe deserves a spoonacular score of 96%. This score is amazing. Similar recipes include Smoky Sweet Potato and Black Bean Tacos, Smoky Sweet Potato and Black Bean Tacos, and Sweet and Smoky Sriracha Black Bean Soup.\n",
            "Calories: 555 calories\n",
            "\n"
          ]
        }
      ]
    }
  ]
}